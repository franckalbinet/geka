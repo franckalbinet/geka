{
 "cells": [
  {
   "cell_type": "markdown",
   "metadata": {},
   "source": [
    "# Loading\n",
    "\n",
    "> Utilities to load ground truth (exchangeable potassium) in soil from [OSSL](https://soilspectroscopy.github.io/ossl-manual/) and others."
   ]
  },
  {
   "cell_type": "code",
   "execution_count": null,
   "metadata": {},
   "outputs": [],
   "source": [
    "#| default_exp loading"
   ]
  },
  {
   "cell_type": "code",
   "execution_count": null,
   "metadata": {},
   "outputs": [],
   "source": [
    "%load_ext autoreload\n",
    "%autoreload 2"
   ]
  },
  {
   "cell_type": "code",
   "execution_count": null,
   "metadata": {},
   "outputs": [],
   "source": [
    "#| export\n",
    "from pathlib import Path\n",
    "from tqdm import tqdm\n",
    "from typing import Union, List\n",
    "import re\n",
    "import fastdownload as fd\n",
    "import fastcore.all as fc\n",
    "\n",
    "import pandas as pd\n",
    "import numpy as np\n",
    "from sklearn.preprocessing import LabelEncoder\n",
    "\n",
    "import warnings\n",
    "warnings.filterwarnings('ignore')"
   ]
  },
  {
   "cell_type": "code",
   "execution_count": null,
   "metadata": {},
   "outputs": [],
   "source": [
    "# | export\n",
    "PATH_OSSL_ALL_L0_V1_2 = 'https://storage.googleapis.com/soilspec4gg-public/ossl_all_L0_v1.2.csv.gz'\n",
    "PATH_OSSL_ALL_L1_V1_2 = 'https://storage.googleapis.com/soilspec4gg-public/ossl_all_L0_v1.2.csv.gz'"
   ]
  },
  {
   "cell_type": "code",
   "execution_count": null,
   "metadata": {},
   "outputs": [],
   "source": [
    "# | export\n",
    "def download(url, dest):\n",
    "    \"Download `given` url into `dest` (creates it on the way if does not exist) \"\n",
    "    if not dest.exists(): fc.mkdir(dest, parents=True)\n",
    "    return fd.download_url(url, dest)"
   ]
  },
  {
   "cell_type": "code",
   "execution_count": null,
   "metadata": {},
   "outputs": [],
   "source": [
    "# | export\n",
    "def load_ossl(analytes: Union[str, List[str]], # Using OSSL's analytes naming conventions\n",
    "              dest:Path=Path.home() / '.geka/data/ossl', # directory containing the data\n",
    "              ):\n",
    "    \"Load all available OSSL data and filter it by analytes of interest\"\n",
    "    \n",
    "    url = PATH_OSSL_ALL_L1_V1_2\n",
    "    fname = dest / Path(PATH_OSSL_ALL_L1_V1_2).name\n",
    "    if not fname.exists(): \n",
    "        print('Downloading & saving to: ', str(fname))\n",
    "        download(url, dest)\n",
    "    \n",
    "    print('Reading & selecting data ...')\n",
    "    \n",
    "    df = pd.read_csv(fname, compression='infer', low_memory=True)\n",
    "            \n",
    "    analytes = [analytes] if isinstance(analytes, str) else analytes\n",
    "    cols_not_nan = ['longitude.point_wgs84_dd', 'latitude.point_wgs84_dd', 'observation.date.begin_iso.8601_yyyy.mm.dd']\n",
    "    \n",
    "    df = df.dropna(subset=analytes+cols_not_nan)\n",
    "    \n",
    "    metadata_of_interest = ['dataset.code_ascii_txt', 'id.layer_local_c', 'id.project_ascii_txt', \n",
    "                            'layer.upper.depth_usda_cm', 'layer.lower.depth_usda_cm']\n",
    "    \n",
    "    return df[metadata_of_interest + cols_not_nan + analytes]"
   ]
  },
  {
   "cell_type": "markdown",
   "metadata": {},
   "source": [
    "Example:"
   ]
  },
  {
   "cell_type": "code",
   "execution_count": null,
   "metadata": {},
   "outputs": [
    {
     "name": "stdout",
     "output_type": "stream",
     "text": [
      "Reading & selecting data ...\n",
      "df shape:  (78804, 9)\n"
     ]
    }
   ],
   "source": [
    "#|eval: false\n",
    "analytes = 'k.ext_usda.a725_cmolc.kg'\n",
    "df = load_ossl(analytes)\n",
    "\n",
    "print('df shape: ', df.shape)"
   ]
  },
  {
   "cell_type": "code",
   "execution_count": null,
   "metadata": {},
   "outputs": [
    {
     "data": {
      "text/html": [
       "<div>\n",
       "<style scoped>\n",
       "    .dataframe tbody tr th:only-of-type {\n",
       "        vertical-align: middle;\n",
       "    }\n",
       "\n",
       "    .dataframe tbody tr th {\n",
       "        vertical-align: top;\n",
       "    }\n",
       "\n",
       "    .dataframe thead th {\n",
       "        text-align: right;\n",
       "    }\n",
       "</style>\n",
       "<table border=\"1\" class=\"dataframe\">\n",
       "  <thead>\n",
       "    <tr style=\"text-align: right;\">\n",
       "      <th></th>\n",
       "      <th>dataset.code_ascii_txt</th>\n",
       "      <th>id.layer_local_c</th>\n",
       "      <th>id.project_ascii_txt</th>\n",
       "      <th>layer.upper.depth_usda_cm</th>\n",
       "      <th>layer.lower.depth_usda_cm</th>\n",
       "      <th>longitude.point_wgs84_dd</th>\n",
       "      <th>latitude.point_wgs84_dd</th>\n",
       "      <th>observation.date.begin_iso.8601_yyyy.mm.dd</th>\n",
       "      <th>k.ext_usda.a725_cmolc.kg</th>\n",
       "    </tr>\n",
       "  </thead>\n",
       "  <tbody>\n",
       "    <tr>\n",
       "      <th>3633</th>\n",
       "      <td>GARRETT.SSL</td>\n",
       "      <td>S40857</td>\n",
       "      <td>Forest soil data from New Zealand (Scion Resea...</td>\n",
       "      <td>0.0</td>\n",
       "      <td>10.0</td>\n",
       "      <td>174.42</td>\n",
       "      <td>-36.78</td>\n",
       "      <td>2000-06-19</td>\n",
       "      <td>0.200688</td>\n",
       "    </tr>\n",
       "    <tr>\n",
       "      <th>3634</th>\n",
       "      <td>GARRETT.SSL</td>\n",
       "      <td>S40858</td>\n",
       "      <td>Forest soil data from New Zealand (Scion Resea...</td>\n",
       "      <td>10.0</td>\n",
       "      <td>20.0</td>\n",
       "      <td>174.42</td>\n",
       "      <td>-36.78</td>\n",
       "      <td>2000-06-19</td>\n",
       "      <td>0.086260</td>\n",
       "    </tr>\n",
       "    <tr>\n",
       "      <th>3635</th>\n",
       "      <td>GARRETT.SSL</td>\n",
       "      <td>S40859</td>\n",
       "      <td>Forest soil data from New Zealand (Scion Resea...</td>\n",
       "      <td>20.0</td>\n",
       "      <td>38.0</td>\n",
       "      <td>174.42</td>\n",
       "      <td>-36.78</td>\n",
       "      <td>2000-06-19</td>\n",
       "      <td>0.094081</td>\n",
       "    </tr>\n",
       "    <tr>\n",
       "      <th>3636</th>\n",
       "      <td>GARRETT.SSL</td>\n",
       "      <td>S40860</td>\n",
       "      <td>Forest soil data from New Zealand (Scion Resea...</td>\n",
       "      <td>38.0</td>\n",
       "      <td>90.0</td>\n",
       "      <td>174.42</td>\n",
       "      <td>-36.78</td>\n",
       "      <td>2000-06-19</td>\n",
       "      <td>0.144572</td>\n",
       "    </tr>\n",
       "    <tr>\n",
       "      <th>3637</th>\n",
       "      <td>GARRETT.SSL</td>\n",
       "      <td>S40861</td>\n",
       "      <td>Forest soil data from New Zealand (Scion Resea...</td>\n",
       "      <td>0.0</td>\n",
       "      <td>10.0</td>\n",
       "      <td>174.55</td>\n",
       "      <td>-36.67</td>\n",
       "      <td>2000-06-20</td>\n",
       "      <td>0.310516</td>\n",
       "    </tr>\n",
       "  </tbody>\n",
       "</table>\n",
       "</div>"
      ],
      "text/plain": [
       "     dataset.code_ascii_txt id.layer_local_c  \\\n",
       "3633            GARRETT.SSL           S40857   \n",
       "3634            GARRETT.SSL           S40858   \n",
       "3635            GARRETT.SSL           S40859   \n",
       "3636            GARRETT.SSL           S40860   \n",
       "3637            GARRETT.SSL           S40861   \n",
       "\n",
       "                                   id.project_ascii_txt  \\\n",
       "3633  Forest soil data from New Zealand (Scion Resea...   \n",
       "3634  Forest soil data from New Zealand (Scion Resea...   \n",
       "3635  Forest soil data from New Zealand (Scion Resea...   \n",
       "3636  Forest soil data from New Zealand (Scion Resea...   \n",
       "3637  Forest soil data from New Zealand (Scion Resea...   \n",
       "\n",
       "      layer.upper.depth_usda_cm  layer.lower.depth_usda_cm  \\\n",
       "3633                        0.0                       10.0   \n",
       "3634                       10.0                       20.0   \n",
       "3635                       20.0                       38.0   \n",
       "3636                       38.0                       90.0   \n",
       "3637                        0.0                       10.0   \n",
       "\n",
       "      longitude.point_wgs84_dd  latitude.point_wgs84_dd  \\\n",
       "3633                    174.42                   -36.78   \n",
       "3634                    174.42                   -36.78   \n",
       "3635                    174.42                   -36.78   \n",
       "3636                    174.42                   -36.78   \n",
       "3637                    174.55                   -36.67   \n",
       "\n",
       "     observation.date.begin_iso.8601_yyyy.mm.dd  k.ext_usda.a725_cmolc.kg  \n",
       "3633                                 2000-06-19                  0.200688  \n",
       "3634                                 2000-06-19                  0.086260  \n",
       "3635                                 2000-06-19                  0.094081  \n",
       "3636                                 2000-06-19                  0.144572  \n",
       "3637                                 2000-06-20                  0.310516  "
      ]
     },
     "execution_count": null,
     "metadata": {},
     "output_type": "execute_result"
    }
   ],
   "source": [
    "#|eval: false\n",
    "df.head()"
   ]
  }
 ],
 "metadata": {
  "kernelspec": {
   "display_name": "python3",
   "language": "python",
   "name": "python3"
  }
 },
 "nbformat": 4,
 "nbformat_minor": 4
}
